{
  "nbformat": 4,
  "nbformat_minor": 0,
  "metadata": {
    "colab": {
      "name": "HW9_A/B_Testing.ipynb",
      "provenance": [],
      "authorship_tag": "ABX9TyNt3x7YFx94k3Jl81vI4of0",
      "include_colab_link": true
    },
    "kernelspec": {
      "name": "python3",
      "display_name": "Python 3"
    },
    "language_info": {
      "name": "python"
    }
  },
  "cells": [
    {
      "cell_type": "markdown",
      "metadata": {
        "id": "view-in-github",
        "colab_type": "text"
      },
      "source": [
        "<a href=\"https://colab.research.google.com/github/prant1719/BADS7105-CRM/blob/main/HW9_AB_Testing/HW9_A_B_Testing.ipynb\" target=\"_parent\"><img src=\"https://colab.research.google.com/assets/colab-badge.svg\" alt=\"Open In Colab\"/></a>"
      ]
    },
    {
      "cell_type": "code",
      "metadata": {
        "id": "A2IADwUtSkLI"
      },
      "source": [
        "import numpy as np\n",
        "import pandas as pd\n",
        "import matplotlib.pyplot as plt\n",
        "import seaborn as sns"
      ],
      "execution_count": 1,
      "outputs": []
    },
    {
      "cell_type": "code",
      "metadata": {
        "colab": {
          "base_uri": "https://localhost:8080/",
          "height": 546
        },
        "id": "TuX8wwrnS5ua",
        "outputId": "7fcf8f4b-a9a6-4528-bc07-ce56e0bc732a"
      },
      "source": [
        "df = pd.read_csv('AB.csv')\n",
        "df.head(10)\n"
      ],
      "execution_count": 2,
      "outputs": [
        {
          "output_type": "execute_result",
          "data": {
            "text/html": [
              "<div>\n",
              "<style scoped>\n",
              "    .dataframe tbody tr th:only-of-type {\n",
              "        vertical-align: middle;\n",
              "    }\n",
              "\n",
              "    .dataframe tbody tr th {\n",
              "        vertical-align: top;\n",
              "    }\n",
              "\n",
              "    .dataframe thead th {\n",
              "        text-align: right;\n",
              "    }\n",
              "</style>\n",
              "<table border=\"1\" class=\"dataframe\">\n",
              "  <thead>\n",
              "    <tr style=\"text-align: right;\">\n",
              "      <th></th>\n",
              "      <th>ประทับเวลา</th>\n",
              "      <th>Gender</th>\n",
              "      <th>Age</th>\n",
              "      <th>Purpose of these pens</th>\n",
              "      <th>Please rank the satisfaction score (5 = Very Satisfied)</th>\n",
              "      <th>Please rank the satisfaction score (5 = Very Satisfied).1</th>\n",
              "    </tr>\n",
              "  </thead>\n",
              "  <tbody>\n",
              "    <tr>\n",
              "      <th>0</th>\n",
              "      <td>2564/11/11 3:37:49 หลังเที่ยง GMT+7</td>\n",
              "      <td>Male</td>\n",
              "      <td>37</td>\n",
              "      <td>Study</td>\n",
              "      <td>3</td>\n",
              "      <td>5</td>\n",
              "    </tr>\n",
              "    <tr>\n",
              "      <th>1</th>\n",
              "      <td>2564/11/11 3:37:59 หลังเที่ยง GMT+7</td>\n",
              "      <td>Male</td>\n",
              "      <td>26</td>\n",
              "      <td>Study</td>\n",
              "      <td>1</td>\n",
              "      <td>5</td>\n",
              "    </tr>\n",
              "    <tr>\n",
              "      <th>2</th>\n",
              "      <td>2564/11/11 3:38:27 หลังเที่ยง GMT+7</td>\n",
              "      <td>Male</td>\n",
              "      <td>24</td>\n",
              "      <td>Study</td>\n",
              "      <td>5</td>\n",
              "      <td>2</td>\n",
              "    </tr>\n",
              "    <tr>\n",
              "      <th>3</th>\n",
              "      <td>2564/11/11 3:38:28 หลังเที่ยง GMT+7</td>\n",
              "      <td>Male</td>\n",
              "      <td>23</td>\n",
              "      <td>Study</td>\n",
              "      <td>2</td>\n",
              "      <td>4</td>\n",
              "    </tr>\n",
              "    <tr>\n",
              "      <th>4</th>\n",
              "      <td>2564/11/11 3:38:41 หลังเที่ยง GMT+7</td>\n",
              "      <td>Male</td>\n",
              "      <td>25</td>\n",
              "      <td>Study</td>\n",
              "      <td>3</td>\n",
              "      <td>5</td>\n",
              "    </tr>\n",
              "    <tr>\n",
              "      <th>5</th>\n",
              "      <td>2564/11/11 3:39:03 หลังเที่ยง GMT+7</td>\n",
              "      <td>Male</td>\n",
              "      <td>27</td>\n",
              "      <td>Work</td>\n",
              "      <td>2</td>\n",
              "      <td>4</td>\n",
              "    </tr>\n",
              "    <tr>\n",
              "      <th>6</th>\n",
              "      <td>2564/11/11 3:39:08 หลังเที่ยง GMT+7</td>\n",
              "      <td>Male</td>\n",
              "      <td>32</td>\n",
              "      <td>Work</td>\n",
              "      <td>2</td>\n",
              "      <td>5</td>\n",
              "    </tr>\n",
              "    <tr>\n",
              "      <th>7</th>\n",
              "      <td>2564/11/11 3:39:50 หลังเที่ยง GMT+7</td>\n",
              "      <td>Male</td>\n",
              "      <td>24</td>\n",
              "      <td>Work</td>\n",
              "      <td>1</td>\n",
              "      <td>5</td>\n",
              "    </tr>\n",
              "    <tr>\n",
              "      <th>8</th>\n",
              "      <td>2564/11/11 3:40:10 หลังเที่ยง GMT+7</td>\n",
              "      <td>Male</td>\n",
              "      <td>27</td>\n",
              "      <td>Study</td>\n",
              "      <td>3</td>\n",
              "      <td>5</td>\n",
              "    </tr>\n",
              "    <tr>\n",
              "      <th>9</th>\n",
              "      <td>2564/11/11 3:40:40 หลังเที่ยง GMT+7</td>\n",
              "      <td>Male</td>\n",
              "      <td>25</td>\n",
              "      <td>Study</td>\n",
              "      <td>1</td>\n",
              "      <td>5</td>\n",
              "    </tr>\n",
              "  </tbody>\n",
              "</table>\n",
              "</div>"
            ],
            "text/plain": [
              "                            ประทับเวลา  ... Please rank the satisfaction score (5 = Very Satisfied).1\n",
              "0  2564/11/11 3:37:49 หลังเที่ยง GMT+7  ...                                                  5       \n",
              "1  2564/11/11 3:37:59 หลังเที่ยง GMT+7  ...                                                  5       \n",
              "2  2564/11/11 3:38:27 หลังเที่ยง GMT+7  ...                                                  2       \n",
              "3  2564/11/11 3:38:28 หลังเที่ยง GMT+7  ...                                                  4       \n",
              "4  2564/11/11 3:38:41 หลังเที่ยง GMT+7  ...                                                  5       \n",
              "5  2564/11/11 3:39:03 หลังเที่ยง GMT+7  ...                                                  4       \n",
              "6  2564/11/11 3:39:08 หลังเที่ยง GMT+7  ...                                                  5       \n",
              "7  2564/11/11 3:39:50 หลังเที่ยง GMT+7  ...                                                  5       \n",
              "8  2564/11/11 3:40:10 หลังเที่ยง GMT+7  ...                                                  5       \n",
              "9  2564/11/11 3:40:40 หลังเที่ยง GMT+7  ...                                                  5       \n",
              "\n",
              "[10 rows x 6 columns]"
            ]
          },
          "metadata": {},
          "execution_count": 2
        }
      ]
    },
    {
      "cell_type": "code",
      "metadata": {
        "id": "gijohKQccYtp"
      },
      "source": [
        "df= df.rename(columns = {'Please rank the satisfaction score (5 = Very Satisfied)': 'Orange', 'Please rank the satisfaction score (5 = Very Satisfied).1': 'Blue'}, inplace = False)"
      ],
      "execution_count": 3,
      "outputs": []
    },
    {
      "cell_type": "code",
      "metadata": {
        "colab": {
          "base_uri": "https://localhost:8080/",
          "height": 359
        },
        "id": "_-wlfCKocmrU",
        "outputId": "59a79805-e5e2-401f-9e42-02ef777903e9"
      },
      "source": [
        "df.head(10)"
      ],
      "execution_count": 4,
      "outputs": [
        {
          "output_type": "execute_result",
          "data": {
            "text/html": [
              "<div>\n",
              "<style scoped>\n",
              "    .dataframe tbody tr th:only-of-type {\n",
              "        vertical-align: middle;\n",
              "    }\n",
              "\n",
              "    .dataframe tbody tr th {\n",
              "        vertical-align: top;\n",
              "    }\n",
              "\n",
              "    .dataframe thead th {\n",
              "        text-align: right;\n",
              "    }\n",
              "</style>\n",
              "<table border=\"1\" class=\"dataframe\">\n",
              "  <thead>\n",
              "    <tr style=\"text-align: right;\">\n",
              "      <th></th>\n",
              "      <th>ประทับเวลา</th>\n",
              "      <th>Gender</th>\n",
              "      <th>Age</th>\n",
              "      <th>Purpose of these pens</th>\n",
              "      <th>Orange</th>\n",
              "      <th>Blue</th>\n",
              "    </tr>\n",
              "  </thead>\n",
              "  <tbody>\n",
              "    <tr>\n",
              "      <th>0</th>\n",
              "      <td>2564/11/11 3:37:49 หลังเที่ยง GMT+7</td>\n",
              "      <td>Male</td>\n",
              "      <td>37</td>\n",
              "      <td>Study</td>\n",
              "      <td>3</td>\n",
              "      <td>5</td>\n",
              "    </tr>\n",
              "    <tr>\n",
              "      <th>1</th>\n",
              "      <td>2564/11/11 3:37:59 หลังเที่ยง GMT+7</td>\n",
              "      <td>Male</td>\n",
              "      <td>26</td>\n",
              "      <td>Study</td>\n",
              "      <td>1</td>\n",
              "      <td>5</td>\n",
              "    </tr>\n",
              "    <tr>\n",
              "      <th>2</th>\n",
              "      <td>2564/11/11 3:38:27 หลังเที่ยง GMT+7</td>\n",
              "      <td>Male</td>\n",
              "      <td>24</td>\n",
              "      <td>Study</td>\n",
              "      <td>5</td>\n",
              "      <td>2</td>\n",
              "    </tr>\n",
              "    <tr>\n",
              "      <th>3</th>\n",
              "      <td>2564/11/11 3:38:28 หลังเที่ยง GMT+7</td>\n",
              "      <td>Male</td>\n",
              "      <td>23</td>\n",
              "      <td>Study</td>\n",
              "      <td>2</td>\n",
              "      <td>4</td>\n",
              "    </tr>\n",
              "    <tr>\n",
              "      <th>4</th>\n",
              "      <td>2564/11/11 3:38:41 หลังเที่ยง GMT+7</td>\n",
              "      <td>Male</td>\n",
              "      <td>25</td>\n",
              "      <td>Study</td>\n",
              "      <td>3</td>\n",
              "      <td>5</td>\n",
              "    </tr>\n",
              "    <tr>\n",
              "      <th>5</th>\n",
              "      <td>2564/11/11 3:39:03 หลังเที่ยง GMT+7</td>\n",
              "      <td>Male</td>\n",
              "      <td>27</td>\n",
              "      <td>Work</td>\n",
              "      <td>2</td>\n",
              "      <td>4</td>\n",
              "    </tr>\n",
              "    <tr>\n",
              "      <th>6</th>\n",
              "      <td>2564/11/11 3:39:08 หลังเที่ยง GMT+7</td>\n",
              "      <td>Male</td>\n",
              "      <td>32</td>\n",
              "      <td>Work</td>\n",
              "      <td>2</td>\n",
              "      <td>5</td>\n",
              "    </tr>\n",
              "    <tr>\n",
              "      <th>7</th>\n",
              "      <td>2564/11/11 3:39:50 หลังเที่ยง GMT+7</td>\n",
              "      <td>Male</td>\n",
              "      <td>24</td>\n",
              "      <td>Work</td>\n",
              "      <td>1</td>\n",
              "      <td>5</td>\n",
              "    </tr>\n",
              "    <tr>\n",
              "      <th>8</th>\n",
              "      <td>2564/11/11 3:40:10 หลังเที่ยง GMT+7</td>\n",
              "      <td>Male</td>\n",
              "      <td>27</td>\n",
              "      <td>Study</td>\n",
              "      <td>3</td>\n",
              "      <td>5</td>\n",
              "    </tr>\n",
              "    <tr>\n",
              "      <th>9</th>\n",
              "      <td>2564/11/11 3:40:40 หลังเที่ยง GMT+7</td>\n",
              "      <td>Male</td>\n",
              "      <td>25</td>\n",
              "      <td>Study</td>\n",
              "      <td>1</td>\n",
              "      <td>5</td>\n",
              "    </tr>\n",
              "  </tbody>\n",
              "</table>\n",
              "</div>"
            ],
            "text/plain": [
              "                            ประทับเวลา Gender  ...  Orange Blue\n",
              "0  2564/11/11 3:37:49 หลังเที่ยง GMT+7   Male  ...       3    5\n",
              "1  2564/11/11 3:37:59 หลังเที่ยง GMT+7   Male  ...       1    5\n",
              "2  2564/11/11 3:38:27 หลังเที่ยง GMT+7   Male  ...       5    2\n",
              "3  2564/11/11 3:38:28 หลังเที่ยง GMT+7   Male  ...       2    4\n",
              "4  2564/11/11 3:38:41 หลังเที่ยง GMT+7   Male  ...       3    5\n",
              "5  2564/11/11 3:39:03 หลังเที่ยง GMT+7   Male  ...       2    4\n",
              "6  2564/11/11 3:39:08 หลังเที่ยง GMT+7   Male  ...       2    5\n",
              "7  2564/11/11 3:39:50 หลังเที่ยง GMT+7   Male  ...       1    5\n",
              "8  2564/11/11 3:40:10 หลังเที่ยง GMT+7   Male  ...       3    5\n",
              "9  2564/11/11 3:40:40 หลังเที่ยง GMT+7   Male  ...       1    5\n",
              "\n",
              "[10 rows x 6 columns]"
            ]
          },
          "metadata": {},
          "execution_count": 4
        }
      ]
    },
    {
      "cell_type": "code",
      "metadata": {
        "colab": {
          "base_uri": "https://localhost:8080/",
          "height": 297
        },
        "id": "QE2LiUpHTR_V",
        "outputId": "a171b2d3-2333-4ed8-ad26-535ce0100b81"
      },
      "source": [
        "df.describe()"
      ],
      "execution_count": 5,
      "outputs": [
        {
          "output_type": "execute_result",
          "data": {
            "text/html": [
              "<div>\n",
              "<style scoped>\n",
              "    .dataframe tbody tr th:only-of-type {\n",
              "        vertical-align: middle;\n",
              "    }\n",
              "\n",
              "    .dataframe tbody tr th {\n",
              "        vertical-align: top;\n",
              "    }\n",
              "\n",
              "    .dataframe thead th {\n",
              "        text-align: right;\n",
              "    }\n",
              "</style>\n",
              "<table border=\"1\" class=\"dataframe\">\n",
              "  <thead>\n",
              "    <tr style=\"text-align: right;\">\n",
              "      <th></th>\n",
              "      <th>Age</th>\n",
              "      <th>Orange</th>\n",
              "      <th>Blue</th>\n",
              "    </tr>\n",
              "  </thead>\n",
              "  <tbody>\n",
              "    <tr>\n",
              "      <th>count</th>\n",
              "      <td>50.000000</td>\n",
              "      <td>50.000000</td>\n",
              "      <td>50.000000</td>\n",
              "    </tr>\n",
              "    <tr>\n",
              "      <th>mean</th>\n",
              "      <td>26.180000</td>\n",
              "      <td>3.140000</td>\n",
              "      <td>4.140000</td>\n",
              "    </tr>\n",
              "    <tr>\n",
              "      <th>std</th>\n",
              "      <td>4.715108</td>\n",
              "      <td>1.195399</td>\n",
              "      <td>0.969115</td>\n",
              "    </tr>\n",
              "    <tr>\n",
              "      <th>min</th>\n",
              "      <td>21.000000</td>\n",
              "      <td>1.000000</td>\n",
              "      <td>1.000000</td>\n",
              "    </tr>\n",
              "    <tr>\n",
              "      <th>25%</th>\n",
              "      <td>23.250000</td>\n",
              "      <td>2.000000</td>\n",
              "      <td>4.000000</td>\n",
              "    </tr>\n",
              "    <tr>\n",
              "      <th>50%</th>\n",
              "      <td>24.500000</td>\n",
              "      <td>3.000000</td>\n",
              "      <td>4.000000</td>\n",
              "    </tr>\n",
              "    <tr>\n",
              "      <th>75%</th>\n",
              "      <td>27.000000</td>\n",
              "      <td>4.000000</td>\n",
              "      <td>5.000000</td>\n",
              "    </tr>\n",
              "    <tr>\n",
              "      <th>max</th>\n",
              "      <td>42.000000</td>\n",
              "      <td>5.000000</td>\n",
              "      <td>5.000000</td>\n",
              "    </tr>\n",
              "  </tbody>\n",
              "</table>\n",
              "</div>"
            ],
            "text/plain": [
              "             Age     Orange       Blue\n",
              "count  50.000000  50.000000  50.000000\n",
              "mean   26.180000   3.140000   4.140000\n",
              "std     4.715108   1.195399   0.969115\n",
              "min    21.000000   1.000000   1.000000\n",
              "25%    23.250000   2.000000   4.000000\n",
              "50%    24.500000   3.000000   4.000000\n",
              "75%    27.000000   4.000000   5.000000\n",
              "max    42.000000   5.000000   5.000000"
            ]
          },
          "metadata": {},
          "execution_count": 5
        }
      ]
    },
    {
      "cell_type": "code",
      "metadata": {
        "colab": {
          "base_uri": "https://localhost:8080/",
          "height": 321
        },
        "id": "PdRL9c6GiEjf",
        "outputId": "d9441c07-b6fb-40af-aec2-1f0d040c6b46"
      },
      "source": [
        "df_pivot = pd.pivot_table(df, values=\"Orange\",index=\"Gender\",columns=\"Purpose of these pens\", aggfunc=np.mean)\n",
        "#Creating a grouped bar chart\n",
        "ax = df_pivot.plot(kind=\"bar\",alpha=0.5)\n",
        "#Adding the aesthetics\n",
        "plt.title('A/B testing')\n",
        "plt.xlabel('Gender')\n",
        "plt.ylabel('Y axis title') \n",
        "# Show the plot\n",
        "plt.show()"
      ],
      "execution_count": 15,
      "outputs": [
        {
          "output_type": "display_data",
          "data": {
            "image/png": "[encoded data removed]",
            "text/plain": [
              "<Figure size 432x288 with 1 Axes>"
            ]
          },
          "metadata": {
            "needs_background": "light"
          }
        }
      ]
    },
    {
      "cell_type": "code",
      "metadata": {
        "colab": {
          "base_uri": "https://localhost:8080/",
          "height": 321
        },
        "id": "YDuwAPUvilqS",
        "outputId": "45190ce7-9acf-4f49-994b-3366848ced7d"
      },
      "source": [
        "df_pivot = pd.pivot_table(df, values=\"Blue\",index=\"Gender\",columns=\"Purpose of these pens\", aggfunc=np.mean)\n",
        "#Creating a grouped bar chart\n",
        "ax = df_pivot.plot(kind=\"bar\",alpha=0.5)\n",
        "#Adding the aesthetics\n",
        "plt.title('A/b Testing')\n",
        "plt.xlabel('Gender')\n",
        "plt.ylabel('Y axis title') \n",
        "# Show the plot\n",
        "plt.show()"
      ],
      "execution_count": 16,
      "outputs": [
        {
          "output_type": "display_data",
          "data": {
            "image/png": "[encoded data removed]",
            "text/plain": [
              "<Figure size 432x288 with 1 Axes>"
            ]
          },
          "metadata": {
            "needs_background": "light"
          }
        }
      ]
    },
    {
      "cell_type": "code",
      "metadata": {
        "colab": {
          "base_uri": "https://localhost:8080/"
        },
        "id": "nRZWmcbZTaGP",
        "outputId": "95dbace7-6a1f-42f3-ff94-ec786ab95429"
      },
      "source": [
        "data = df.groupby(\"Gender\")['Age'].mean()\n",
        "data.head()"
      ],
      "execution_count": 38,
      "outputs": [
        {
          "output_type": "execute_result",
          "data": {
            "text/plain": [
              "Gender\n",
              "Female    24.666667\n",
              "Male      27.031250\n",
              "Name: Age, dtype: float64"
            ]
          },
          "metadata": {},
          "execution_count": 38
        }
      ]
    },
    {
      "cell_type": "code",
      "metadata": {
        "colab": {
          "base_uri": "https://localhost:8080/"
        },
        "id": "AWUPsPBuc_NK",
        "outputId": "b97960e0-550a-4654-adfa-8f5753af9327"
      },
      "source": [
        " df.groupby(\"Gender\")[\"Orange\"].mean()"
      ],
      "execution_count": 36,
      "outputs": [
        {
          "output_type": "execute_result",
          "data": {
            "text/plain": [
              "Gender\n",
              "Female    3.055556\n",
              "Male      3.187500\n",
              "Name: Orange, dtype: float64"
            ]
          },
          "metadata": {},
          "execution_count": 36
        }
      ]
    },
    {
      "cell_type": "code",
      "metadata": {
        "colab": {
          "base_uri": "https://localhost:8080/"
        },
        "id": "WcUuF2hcdEUD",
        "outputId": "1fe6f2c7-c4f6-4ab5-d762-c3fc0785711a"
      },
      "source": [
        "df.groupby(\"Gender\")[\"Blue\"].mean()"
      ],
      "execution_count": 37,
      "outputs": [
        {
          "output_type": "execute_result",
          "data": {
            "text/plain": [
              "Gender\n",
              "Female    4.00000\n",
              "Male      4.21875\n",
              "Name: Blue, dtype: float64"
            ]
          },
          "metadata": {},
          "execution_count": 37
        }
      ]
    },
    {
      "cell_type": "code",
      "metadata": {
        "colab": {
          "base_uri": "https://localhost:8080/"
        },
        "id": "aEm8-uHFb7N7",
        "outputId": "4e276d77-7f59-441e-d8d0-3235dacbbb64"
      },
      "source": [
        "df.groupby([\"Gender\", \"Purpose of these pens\"])[\"Orange\"].mean()"
      ],
      "execution_count": 13,
      "outputs": [
        {
          "output_type": "execute_result",
          "data": {
            "text/plain": [
              "Gender  Purpose of these pens\n",
              "Female  Study                    2.888889\n",
              "        Work                     3.222222\n",
              "Male    Study                    2.888889\n",
              "        Work                     3.304348\n",
              "Name: Orange, dtype: float64"
            ]
          },
          "metadata": {},
          "execution_count": 13
        }
      ]
    },
    {
      "cell_type": "code",
      "metadata": {
        "colab": {
          "base_uri": "https://localhost:8080/"
        },
        "id": "4BXul9YWcyo-",
        "outputId": "289ccc32-4009-4528-b4c7-e01831b56953"
      },
      "source": [
        "df.groupby([\"Gender\", \"Purpose of these pens\"])[\"Blue\"].mean()"
      ],
      "execution_count": 14,
      "outputs": [
        {
          "output_type": "execute_result",
          "data": {
            "text/plain": [
              "Gender  Purpose of these pens\n",
              "Female  Study                    3.666667\n",
              "        Work                     4.333333\n",
              "Male    Study                    4.444444\n",
              "        Work                     4.130435\n",
              "Name: Blue, dtype: float64"
            ]
          },
          "metadata": {},
          "execution_count": 14
        }
      ]
    },
    {
      "cell_type": "code",
      "metadata": {
        "colab": {
          "base_uri": "https://localhost:8080/"
        },
        "id": "cqhkxt4XmZfj",
        "outputId": "dcdfab59-e577-422b-e081-59ea97ec5b18"
      },
      "source": [
        "df.groupby([\"Gender\", \"Age\"])[\"Orange\"].mean()"
      ],
      "execution_count": 17,
      "outputs": [
        {
          "output_type": "execute_result",
          "data": {
            "text/plain": [
              "Gender  Age\n",
              "Female  23     3.333333\n",
              "        24     3.200000\n",
              "        25     3.000000\n",
              "        27     3.000000\n",
              "        28     3.000000\n",
              "        29     1.000000\n",
              "Male    21     3.000000\n",
              "        22     4.000000\n",
              "        23     3.800000\n",
              "        24     3.142857\n",
              "        25     3.000000\n",
              "        26     2.500000\n",
              "        27     2.750000\n",
              "        28     3.000000\n",
              "        32     2.000000\n",
              "        37     3.500000\n",
              "        39     4.000000\n",
              "        42     3.000000\n",
              "Name: Orange, dtype: float64"
            ]
          },
          "metadata": {},
          "execution_count": 17
        }
      ]
    },
    {
      "cell_type": "code",
      "metadata": {
        "colab": {
          "base_uri": "https://localhost:8080/"
        },
        "id": "kZXFHe_YmmZg",
        "outputId": "60916ab9-a73a-4e1f-a6a8-a186369df111"
      },
      "source": [
        "df.groupby([\"Gender\", \"Age\"])[\"Blue\"].mean()"
      ],
      "execution_count": 22,
      "outputs": [
        {
          "output_type": "execute_result",
          "data": {
            "text/plain": [
              "Gender  Age\n",
              "Female  23     4.000000\n",
              "        24     4.600000\n",
              "        25     3.666667\n",
              "        27     3.500000\n",
              "        28     4.000000\n",
              "        29     3.000000\n",
              "Male    21     5.000000\n",
              "        22     3.000000\n",
              "        23     4.200000\n",
              "        24     4.142857\n",
              "        25     4.400000\n",
              "        26     4.500000\n",
              "        27     3.750000\n",
              "        28     5.000000\n",
              "        32     5.000000\n",
              "        37     5.000000\n",
              "        39     4.000000\n",
              "        42     3.000000\n",
              "Name: Blue, dtype: float64"
            ]
          },
          "metadata": {},
          "execution_count": 22
        }
      ]
    },
    {
      "cell_type": "code",
      "metadata": {
        "colab": {
          "base_uri": "https://localhost:8080/"
        },
        "id": "Bav6h9zLsD1P",
        "outputId": "6dfe061b-61bf-4f89-e0bf-67cd3950525f"
      },
      "source": [
        "df.mean()"
      ],
      "execution_count": 41,
      "outputs": [
        {
          "output_type": "execute_result",
          "data": {
            "text/plain": [
              "Age       26.18\n",
              "Orange     3.14\n",
              "Blue       4.14\n",
              "dtype: float64"
            ]
          },
          "metadata": {},
          "execution_count": 41
        }
      ]
    }
  ]
}